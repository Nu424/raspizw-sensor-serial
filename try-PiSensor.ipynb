{
 "cells": [
  {
   "cell_type": "markdown",
   "metadata": {},
   "source": [
    "# try-PiSensor.ipynb\n",
    "PiSensorモジュールの動作を検証するノートブック。"
   ]
  },
  {
   "cell_type": "code",
   "execution_count": null,
   "metadata": {},
   "outputs": [],
   "source": [
    "from PiSensor import PiSensor\n",
    "\n",
    "# ---シリアル接続を開始\n",
    "pi_sensor = PiSensor(port=\"COM20\")\n",
    "pi_sensor.connect()"
   ]
  },
  {
   "cell_type": "code",
   "execution_count": null,
   "metadata": {},
   "outputs": [],
   "source": [
    "# ---接続の検証\n",
    "status = pi_sensor.get_status()\n",
    "print(status)\n",
    "ping = pi_sensor.ping()\n",
    "print(ping)"
   ]
  },
  {
   "cell_type": "code",
   "execution_count": null,
   "metadata": {},
   "outputs": [],
   "source": [
    "# ---センサーデータの取得\n",
    "sensor_data = pi_sensor.get_sensor_data()\n",
    "print(sensor_data)\n",
    "sensor_data.environment.light"
   ]
  },
  {
   "cell_type": "code",
   "execution_count": 21,
   "metadata": {},
   "outputs": [],
   "source": [
    "# ---シリアル接続を終了\n",
    "pi_sensor.disconnect()"
   ]
  }
 ],
 "metadata": {
  "kernelspec": {
   "display_name": "venv",
   "language": "python",
   "name": "python3"
  },
  "language_info": {
   "codemirror_mode": {
    "name": "ipython",
    "version": 3
   },
   "file_extension": ".py",
   "mimetype": "text/x-python",
   "name": "python",
   "nbconvert_exporter": "python",
   "pygments_lexer": "ipython3",
   "version": "3.12.3"
  }
 },
 "nbformat": 4,
 "nbformat_minor": 2
}
